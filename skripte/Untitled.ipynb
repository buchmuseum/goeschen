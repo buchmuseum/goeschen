{
 "cells": [
  {
   "cell_type": "code",
   "execution_count": 3,
   "id": "d1747ddd-1148-48bf-972b-6aa5f3fbf812",
   "metadata": {},
   "outputs": [],
   "source": [
    "import re"
   ]
  },
  {
   "cell_type": "code",
   "execution_count": null,
   "id": "943294a2-a4fd-4603-b741-1d76d1bdbe44",
   "metadata": {},
   "outputs": [],
   "source": [
    "\toriginInfo\n",
    "657\t{'dateCreated': 'o.D. [27.April o.J. (1809?)]', 'place': {'placeTerm': {'@authorityURI': 'https://d-nb.info/gnd/', '@type': 'text', '@valueURI': 'https://d-nb.info/gnd/4043457-6', '#text': 'Oldenburg (Oldenburg)'}}}"
   ]
  },
  {
   "cell_type": "code",
   "execution_count": 1,
   "id": "f34454f5-2419-4564-8aaa-20095ce28846",
   "metadata": {},
   "outputs": [
    {
     "data": {
      "text/plain": [
       "str"
      ]
     },
     "execution_count": 1,
     "metadata": {},
     "output_type": "execute_result"
    }
   ],
   "source": [
    "type('o.D. [27.April o.J. (1809?)]')"
   ]
  },
  {
   "cell_type": "code",
   "execution_count": 13,
   "id": "0988d877-f7d0-4128-87ec-0b4bbfc3e8e9",
   "metadata": {},
   "outputs": [
    {
     "name": "stdout",
     "output_type": "stream",
     "text": [
      "o.D. [27.April o.J. (1809?)]\n"
     ]
    }
   ],
   "source": [
    "if year := re.search(r\"\\d{4}\\??\",'o.D. [27.April o.J. (1809?)]'):\n",
    "    print(year.string)"
   ]
  }
 ],
 "metadata": {
  "kernelspec": {
   "display_name": "Python 3.10.7 64-bit",
   "language": "python",
   "name": "python3"
  },
  "language_info": {
   "codemirror_mode": {
    "name": "ipython",
    "version": 3
   },
   "file_extension": ".py",
   "mimetype": "text/x-python",
   "name": "python",
   "nbconvert_exporter": "python",
   "pygments_lexer": "ipython3",
   "version": "3.10.7"
  },
  "vscode": {
   "interpreter": {
    "hash": "97cc609b13305c559618ec78a438abc56230b9381f827f22d070313b9a1f3777"
   }
  }
 },
 "nbformat": 4,
 "nbformat_minor": 5
}
